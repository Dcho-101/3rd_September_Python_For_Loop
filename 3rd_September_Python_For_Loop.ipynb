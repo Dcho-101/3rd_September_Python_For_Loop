{
 "cells": [
  {
   "cell_type": "markdown",
   "id": "97444c2b-934f-4dd2-aee6-646931f7841e",
   "metadata": {},
   "source": [
    "# For Loop Assignment Question"
   ]
  },
  {
   "cell_type": "markdown",
   "id": "ecda2f22-3f05-40cb-8db4-470137d251ca",
   "metadata": {},
   "source": [
    "# Basic Level"
   ]
  },
  {
   "cell_type": "markdown",
   "id": "18133257-b51e-432f-8109-3e57b7cf0b9e",
   "metadata": {},
   "source": [
    "# Question 1"
   ]
  },
  {
   "cell_type": "markdown",
   "id": "22b62589-88fe-4126-bfa3-8397d4b50704",
   "metadata": {},
   "source": [
    "Write a Python program to print the numbers from 1 to 10 using a `for` loop."
   ]
  },
  {
   "cell_type": "code",
   "execution_count": 2,
   "id": "ceaf070c-827c-4d66-b043-c9c4aa675553",
   "metadata": {},
   "outputs": [
    {
     "name": "stdout",
     "output_type": "stream",
     "text": [
      "1\n",
      "2\n",
      "3\n",
      "4\n",
      "5\n",
      "6\n",
      "7\n",
      "8\n",
      "9\n",
      "10\n"
     ]
    }
   ],
   "source": [
    "for i in range(1,11):\n",
    "    print(i)"
   ]
  },
  {
   "cell_type": "code",
   "execution_count": null,
   "id": "5751e1b5-5cd3-429f-a0b5-8bba9adc3c77",
   "metadata": {},
   "outputs": [],
   "source": []
  },
  {
   "cell_type": "markdown",
   "id": "a22bf6dd-884b-4126-8407-2ff8ded5b59c",
   "metadata": {},
   "source": [
    "# Question 2"
   ]
  },
  {
   "cell_type": "markdown",
   "id": "a2248ae4-3d58-436e-89c0-72c701127387",
   "metadata": {},
   "source": [
    "Create a program that calculates the sum of all numbers in a list using a `for` loop"
   ]
  },
  {
   "cell_type": "code",
   "execution_count": 8,
   "id": "c4c55f01-09ae-4ce9-a5a9-9f0e94d73280",
   "metadata": {},
   "outputs": [
    {
     "name": "stdout",
     "output_type": "stream",
     "text": [
      "the list is: [1, 2, 3, 4, 5, 6, 7, 8, 9, 10]\n",
      "the sum of all list values :55\n"
     ]
    }
   ],
   "source": [
    "# we can take a list of numbers 1 to 10 for this question \n",
    "\n",
    "l1 = [1,2,3,4,5,6,7,8,9,10]\n",
    "\n",
    "# printing the list\n",
    "print(f\"the list is: {l1}\")\n",
    "\n",
    "sum_of_list = []\n",
    "\n",
    "# implementing for loop\n",
    "\n",
    "for i in l1:\n",
    "    sum_of_list.append(i)# it will return all values in the sum_of_list variable \n",
    "\n",
    "    \n",
    "print(f\"the sum of all list values :{sum(sum_of_list)}\") #printing the sum"
   ]
  },
  {
   "cell_type": "code",
   "execution_count": null,
   "id": "1463b30d-be2a-4194-9405-3f5c26696e0e",
   "metadata": {},
   "outputs": [],
   "source": []
  },
  {
   "cell_type": "markdown",
   "id": "a4f39efd-47fd-40b7-a628-0424c3b93bdd",
   "metadata": {},
   "source": [
    "# Question 3"
   ]
  },
  {
   "cell_type": "markdown",
   "id": "bd757ce6-80d1-4ef1-ba94-757464e08912",
   "metadata": {},
   "source": [
    "Write a program to print the characters of a string in reverse order using a `for` loop"
   ]
  },
  {
   "cell_type": "code",
   "execution_count": 23,
   "id": "496838fa-767f-4b01-93c7-bb935f7d81a5",
   "metadata": {},
   "outputs": [
    {
     "name": "stdout",
     "output_type": "stream",
     "text": [
      "the string before reverse: pwskills\n",
      "the string after reverse: sllikswp \n"
     ]
    }
   ],
   "source": [
    "# first we take a string\n",
    "string = 'pwskills'\n",
    "\n",
    "\n",
    "# printing the string\n",
    "print(f\"the string before reverse: {string}\")\n",
    "\n",
    "reverse = \" \"\n",
    "\n",
    "#implementing for loop\n",
    "\n",
    "for i in string:\n",
    "    reverse = i + reverse #it will add iteration and after iteration will ad reverse string value.\n",
    "\n",
    "\n",
    "print(f\"the string after reverse: {reverse}\")"
   ]
  },
  {
   "cell_type": "code",
   "execution_count": null,
   "id": "bab4a2e8-15ab-4d04-99df-c4d1b62976cb",
   "metadata": {},
   "outputs": [],
   "source": []
  },
  {
   "cell_type": "markdown",
   "id": "abba9bcf-ffe2-480c-9b0d-ad39e1a08c56",
   "metadata": {},
   "source": [
    "# Question 4"
   ]
  },
  {
   "cell_type": "markdown",
   "id": "ca7c0afe-b30f-4db5-8ee8-4dc342406fe7",
   "metadata": {},
   "source": [
    "Develop a program that finds the factorial of a given number using a `for` loop"
   ]
  },
  {
   "cell_type": "code",
   "execution_count": 49,
   "id": "3565bd13-47d7-4161-a048-e4bd8af3ffe1",
   "metadata": {},
   "outputs": [
    {
     "name": "stdout",
     "output_type": "stream",
     "text": [
      "factorial is: 120\n"
     ]
    }
   ],
   "source": [
    "# first we take given num as num (here num = 5)\n",
    "num = 5\n",
    "\n",
    "fact = 1 # let take fact value as 1\n",
    "\n",
    "if num <= fact :\n",
    "    print(fact)# if the num value is less than fact value (say if num value is 0) then the factorial will be 1  \n",
    "else:\n",
    "    for i in range(1, num+1): # implementing for loop\n",
    "        fact = fact * i\n",
    "    \n",
    "print(f\"factorial is: {fact}\")"
   ]
  },
  {
   "cell_type": "code",
   "execution_count": null,
   "id": "beeea35c-7918-46e7-af55-d7d59f9e3029",
   "metadata": {},
   "outputs": [],
   "source": []
  },
  {
   "cell_type": "markdown",
   "id": "914373b6-4455-4ec8-931f-57ab5b6c73e1",
   "metadata": {},
   "source": [
    "# Question 5"
   ]
  },
  {
   "cell_type": "markdown",
   "id": "46400d1a-21e0-4d17-beae-fdca41b41fec",
   "metadata": {},
   "source": [
    "Create a program to print the multiplication table of a given number using a `for` loop\n"
   ]
  },
  {
   "cell_type": "code",
   "execution_count": 55,
   "id": "9366421c-e1a1-48ff-aa13-805a0677d5e1",
   "metadata": {},
   "outputs": [
    {
     "name": "stdout",
     "output_type": "stream",
     "text": [
      "5\n",
      "10\n",
      "15\n",
      "20\n",
      "25\n",
      "30\n",
      "35\n",
      "40\n",
      "45\n",
      "50\n"
     ]
    }
   ],
   "source": [
    "num = 5\n",
    "\n",
    "for i in range(1,11):\n",
    "    print(i * num)"
   ]
  },
  {
   "cell_type": "code",
   "execution_count": null,
   "id": "27c7e121-e52d-4abe-83a6-095bf75c1a93",
   "metadata": {},
   "outputs": [],
   "source": []
  },
  {
   "cell_type": "markdown",
   "id": "f59b6c0d-fe89-4d75-a4df-759fd30971d7",
   "metadata": {},
   "source": [
    "# Question 6"
   ]
  },
  {
   "cell_type": "markdown",
   "id": "7fd4bd2b-6385-4bbe-b57a-e4246b1a6a6d",
   "metadata": {},
   "source": [
    "Write a program that counts the number of even and odd numbers in a list using a `for` loop"
   ]
  },
  {
   "cell_type": "code",
   "execution_count": 6,
   "id": "5490aeb6-2b38-4a46-910d-1ba5b68adda0",
   "metadata": {},
   "outputs": [
    {
     "name": "stdout",
     "output_type": "stream",
     "text": [
      "list of even numbers are: [2, 4, 6, 8, 10, 12, 14, 16, 18, 20, 22, 24, 26, 28, 30, 32, 34, 36, 38, 40, 42, 44, 46, 48, 50]\n",
      "list of odd numbers are: [1, 3, 5, 7, 9, 11, 13, 15, 17, 19, 21, 23, 25, 27, 29, 31, 33, 35, 37, 39, 41, 43, 45, 47, 49]\n"
     ]
    }
   ],
   "source": [
    "\n",
    "even = [] #this list will store all even numbers \n",
    "\n",
    "odd = [] # #this list will store all odd numbers\n",
    "\n",
    "for i in range(1,51): # here we will count the number of odd and even from 1 to 50\n",
    "    if i%2 ==0:\n",
    "        even.append(i) # if the number is even, it will stored into even list\n",
    "    else:\n",
    "        odd.append(i) # # if the number is odd, it will stored into odd list\n",
    "        \n",
    "        \n",
    "# printing the list\n",
    "\n",
    "print(f\"list of even numbers are: {even}\")\n",
    "\n",
    "print(f\"list of odd numbers are: {odd}\")"
   ]
  },
  {
   "cell_type": "code",
   "execution_count": null,
   "id": "6630e7fb-1cde-46aa-aa8e-0a777942225e",
   "metadata": {},
   "outputs": [],
   "source": []
  },
  {
   "cell_type": "markdown",
   "id": "b17fffd6-9a8b-49be-96c3-8bfc4cd536ee",
   "metadata": {},
   "source": [
    "# Question 7"
   ]
  },
  {
   "cell_type": "markdown",
   "id": "a20a348d-9d01-4d10-b4f4-20a710ca7874",
   "metadata": {},
   "source": [
    "Develop a program that prints the squares of numbers from 1 to 5 using a `for` loop"
   ]
  },
  {
   "cell_type": "code",
   "execution_count": 13,
   "id": "b8e103e3-1640-43c7-82f7-719b3389f8b9",
   "metadata": {},
   "outputs": [
    {
     "name": "stdout",
     "output_type": "stream",
     "text": [
      "list before squaring of elements: [1, 2, 3, 4, 5]\n",
      "list after squaring the elements: [1, 4, 9, 16, 25]\n"
     ]
    }
   ],
   "source": [
    "# first we take a list of numbers 1 to 5\n",
    "\n",
    "l = [1,2,3,4,5]\n",
    "\n",
    "\n",
    "# printing the list before squaring the elements\n",
    "print(f\"list before squaring of elements: {l}\")\n",
    "\n",
    "# taking a square list in which the square values will be placed\n",
    "\n",
    "square_list = []\n",
    "\n",
    "# implementing for loop \n",
    "\n",
    "for i in l:\n",
    "    i = i**2\n",
    "    square_list.append(i)\n",
    "\n",
    "# printing the list\n",
    "print(f\"list after squaring the elements: {square_list}\")"
   ]
  },
  {
   "cell_type": "code",
   "execution_count": null,
   "id": "ecb404b6-d0af-4da2-ae1a-f4d99f3fd57d",
   "metadata": {},
   "outputs": [],
   "source": []
  },
  {
   "cell_type": "markdown",
   "id": "a4e180cc-20f0-4d0a-b5aa-a791dd0c4167",
   "metadata": {},
   "source": [
    "# Question 8"
   ]
  },
  {
   "cell_type": "markdown",
   "id": "abee0dcb-f595-48fa-b737-1c5a421edbcd",
   "metadata": {},
   "source": [
    "Create a program to find the length of a string without using the `len()` function"
   ]
  },
  {
   "cell_type": "code",
   "execution_count": 1,
   "id": "6c0ff85d-3180-4c9f-9136-fdc52bd09892",
   "metadata": {},
   "outputs": [
    {
     "name": "stdout",
     "output_type": "stream",
     "text": [
      "9\n"
     ]
    }
   ],
   "source": [
    "# first cerating a list\n",
    "\n",
    "l1 = [1,2,3,4,5,6,7,8,9]\n",
    "\n",
    "# creating another variable\n",
    "sum_list = 0 \n",
    "\n",
    "# finding the length of the string without using len() function\n",
    "# we can use for loop in this scenario\n",
    "for i in l1:\n",
    "    sum_list += 1 # it will show total number of indexes present in the list l1\n",
    "\n",
    "    \n",
    "    \n",
    "print(sum_list) # printing the sum_list"
   ]
  },
  {
   "cell_type": "code",
   "execution_count": null,
   "id": "02853676-e472-415c-8174-81f6d358a4b2",
   "metadata": {},
   "outputs": [],
   "source": []
  },
  {
   "cell_type": "markdown",
   "id": "4725d635-000e-45b3-8b21-b1307e084f4f",
   "metadata": {},
   "source": [
    "# Question 9"
   ]
  },
  {
   "cell_type": "markdown",
   "id": "7eb37680-4dea-4f6a-8824-c3602e63f67d",
   "metadata": {},
   "source": [
    "Write a program that calculates the average of a list of numbers using a `for` loop"
   ]
  },
  {
   "cell_type": "code",
   "execution_count": 30,
   "id": "fb6c7a0e-33dc-42ae-b374-74ee20c9318c",
   "metadata": {},
   "outputs": [
    {
     "name": "stdout",
     "output_type": "stream",
     "text": [
      "list: [1, 2, 3, 4, 5, 6, 7, 8, 9, 10]\n",
      "sum of the list is: 55\n",
      "the avarage value of list is: 5.5\n"
     ]
    }
   ],
   "source": [
    "# first a list is taken \n",
    "l1 = [1,2,3,4,5,6,7,8,9,10]\n",
    "\n",
    "\n",
    "# printing the list \n",
    "print(f\"list: {l1}\")\n",
    "\n",
    "\n",
    "l1_num = len(l1) # finding the total number of index present in the list \n",
    "\n",
    "\n",
    "sum_of_list = 0\n",
    "\n",
    "\n",
    "# for loop can be used in this case\n",
    "for i in l1:\n",
    "    sum_of_list += i\n",
    "\n",
    "    \n",
    "print(f\"sum of the list is: {sum_of_list}\") # printing the sum of the list \n",
    "\n",
    "\n",
    "# finding the avarage\n",
    "avarage  = sum_of_list/l1_num\n",
    "\n",
    "\n",
    "print(f\"the avarage value of list is: {avarage}\") # printing the avarage value"
   ]
  },
  {
   "cell_type": "code",
   "execution_count": null,
   "id": "d436e282-e78d-4a43-8ff5-6409a49c3a3b",
   "metadata": {},
   "outputs": [],
   "source": []
  },
  {
   "cell_type": "markdown",
   "id": "ff14e959-24d8-401e-a0fc-290b0081aa7a",
   "metadata": {},
   "source": [
    "# Question 10 "
   ]
  },
  {
   "cell_type": "markdown",
   "id": "834e2bcd-cd34-4a53-822f-22e8120a6fc6",
   "metadata": {},
   "source": [
    "Develop a program that prints the first `n` Fibonacci numbers using a `for` loop"
   ]
  },
  {
   "cell_type": "code",
   "execution_count": 58,
   "id": "53e7a8fc-85f6-4c2d-a8a0-de769c561a16",
   "metadata": {},
   "outputs": [
    {
     "name": "stdout",
     "output_type": "stream",
     "text": [
      "1\n",
      "2\n",
      "3\n",
      "5\n",
      "8\n",
      "13\n",
      "21\n",
      "34\n",
      "55\n",
      "89\n"
     ]
    }
   ],
   "source": [
    "# for loop can be used in this case \n",
    "\n",
    "c = 0 # initial value taken as 0\n",
    "\n",
    "a,b = 0,1 # a and b both value taken as 1 and 2 for starting the fibonacci series\n",
    "\n",
    "for i in range(1,11):\n",
    "    c = (a+b) # value of c will be addition of a and b\n",
    "    print(c) # after every iteration the fibonacci value will be printed \n",
    "    a,b = b,c # after storing value of c, in next loop, the value of a will be the value of b and the value of b will be the value of c "
   ]
  },
  {
   "cell_type": "code",
   "execution_count": null,
   "id": "da096d57-5681-4d37-9950-745e28fa5d8b",
   "metadata": {},
   "outputs": [],
   "source": []
  },
  {
   "cell_type": "markdown",
   "id": "ff8c6b04-0828-42e8-a7ed-f5f412d95236",
   "metadata": {},
   "source": [
    "# Intermediate Level"
   ]
  },
  {
   "cell_type": "markdown",
   "id": "63af1807-72b8-4e92-b5cd-56de001142d3",
   "metadata": {},
   "source": [
    "# Question 11"
   ]
  },
  {
   "cell_type": "markdown",
   "id": "b403a5b6-6a99-43ec-b090-d4a2149f91b9",
   "metadata": {},
   "source": [
    "Write a program to check if a given list contains any duplicates using a `for` loop"
   ]
  },
  {
   "cell_type": "code",
   "execution_count": 20,
   "id": "72d6cf6f-7306-4252-9053-77e4a4b89c2f",
   "metadata": {},
   "outputs": [
    {
     "name": "stdout",
     "output_type": "stream",
     "text": [
      "list: [1, 2, 2, 5, 4, 6, 5, 4, 8, 7, 8, 9, 6, 1, 5, 4, 3, 7, 8, 3, 7, 9, 7, 4, 4, 3, 1, 5, 9, 1]\n",
      "The above list contains duplicates.\n"
     ]
    }
   ],
   "source": [
    "# to answering this question, we need a list with duplicates to check our code running properly or not\n",
    "list_with_duplicates = [1,2,2,5,4,6,5,4,8,7,8,9,6,1,5,4,3,7,8,3,7,9,7,4,4,3,1,5,9,1,]\n",
    "\n",
    "# printing the list first \n",
    "print(f\"list: {list_with_duplicates}\")\n",
    "\n",
    "\n",
    "# converting the above list to set\n",
    "set_1 = set(list_with_duplicates)\n",
    "\n",
    "\n",
    "# an user-defined function needed in order to answering this question\n",
    "# for loop can be used inside the function\n",
    "def is_duplicate(list_withduplicates): #defining function\n",
    "    for element in list_with_duplicates: #using for loop\n",
    "        if element in set_1:\n",
    "            return True\n",
    "        else:\n",
    "            return False\n",
    "        \n",
    "        \n",
    "# checking wheather the list contains duplicates or not \n",
    "if is_duplicate(list_with_duplicates):\n",
    "  print(\"The above list contains duplicates.\")\n",
    "else:\n",
    "  print(\"The above list does not contain any duplicates.\")"
   ]
  },
  {
   "cell_type": "code",
   "execution_count": null,
   "id": "65ecc607-a654-4fbb-b592-ca2dd11e25c9",
   "metadata": {},
   "outputs": [],
   "source": []
  },
  {
   "cell_type": "markdown",
   "id": "02733dfa-5f14-4a12-8b98-cd7847e797d0",
   "metadata": {},
   "source": [
    "# Question 12"
   ]
  },
  {
   "cell_type": "markdown",
   "id": "33b38e51-662a-48d6-b82e-3afbab989050",
   "metadata": {},
   "source": [
    "Create a program that prints the prime numbers in a given range using a `for` loop"
   ]
  },
  {
   "cell_type": "code",
   "execution_count": 2,
   "id": "fccc72e5-4e94-4ee4-a6ea-3ebed1a7f9b0",
   "metadata": {},
   "outputs": [
    {
     "name": "stdin",
     "output_type": "stream",
     "text": [
      "Enter the starting number:  1\n",
      "Enter the ending number:  10\n"
     ]
    },
    {
     "name": "stdout",
     "output_type": "stream",
     "text": [
      "Prime numbers in the range 1 to 10 are:\n",
      "2 3 5 7 "
     ]
    }
   ],
   "source": [
    "# an user defined function is created in this case\n",
    "def is_prime(num):\n",
    "    if num <= 1: # if value of the number is less than or equals to 1, it will return false\n",
    "        return False\n",
    "    elif num == 2:\n",
    "        return True # if value of the number is equals to 2, it will return true\n",
    "    elif num % 2 == 0:\n",
    "        return False # if the number leaves n remainder dividing the number by 2, then it returns false\n",
    "    \n",
    "    #the above for loop is specially for 1 and 2, from 3 we will make another for loop in this case\n",
    "    \n",
    "    else:\n",
    "        for i in range(3, int(num**0.5) + 1, 2): \n",
    "            if num % i == 0:\n",
    "                return False\n",
    "        return True\n",
    "\n",
    "def print_primes_in_range(start, end): #an user define function is created for placing values of the prime numbers\n",
    "    for number in range(start, end + 1):\n",
    "        if is_prime(number):\n",
    "            print(number, end=\" \") # if the number is present in the is_prime function, then it will print the number in this function\n",
    "\n",
    "            \n",
    "# Taking starting and ending number from the user\n",
    "start = int(input(\"Enter the starting number: \"))\n",
    "end = int(input(\"Enter the ending number: \"))\n",
    "\n",
    "# prining the values\n",
    "print(\"Prime numbers in the range\", start, \"to\", end, \"are:\")\n",
    "print_primes_in_range(start, end)\n"
   ]
  },
  {
   "cell_type": "code",
   "execution_count": null,
   "id": "bc62aa8a-a7c6-46ac-a347-916144789d2a",
   "metadata": {},
   "outputs": [],
   "source": []
  },
  {
   "cell_type": "markdown",
   "id": "e7936a70-8020-4ab1-921b-89a08dfb0109",
   "metadata": {},
   "source": [
    "# Question 13"
   ]
  },
  {
   "cell_type": "markdown",
   "id": "9ab0da5c-f4f2-4da0-af26-36f4cda788e1",
   "metadata": {},
   "source": [
    "Develop a program that counts the number of vowels in a string using a `for` loop"
   ]
  },
  {
   "cell_type": "code",
   "execution_count": 11,
   "id": "24fb6122-a4b2-41ae-8535-2ae47a09328f",
   "metadata": {},
   "outputs": [
    {
     "name": "stdout",
     "output_type": "stream",
     "text": [
      "the number of vowel present in the list is: 9\n"
     ]
    }
   ],
   "source": [
    "# first we need a string\n",
    "string_1 = \"Good morning, welcome to pwskills\"\n",
    "\n",
    "# creating an user defined function \n",
    "def count_vowels_from_string(string_1):\n",
    "    # we need another variable in which the number of vowel count value will be stored\n",
    "    count_vowel = 0\n",
    "    \n",
    "    # defining a set of vowel for placing a for loop in this case\n",
    "    vowels = set(\"aeiouAEIOU\")\n",
    "    \n",
    "    # implementing for loop\n",
    "    for char in string_1:\n",
    "        if char in vowels:\n",
    "            count_vowel += 1\n",
    "    \n",
    "    return count_vowel\n",
    "\n",
    "# calling the function to count the vowels present in the list\n",
    "count_vowel = count_vowels_from_string(string_1)\n",
    "\n",
    "\n",
    "# prining the number of vowels\n",
    "print(f\"the number of vowel present in the list is: {count_vowel}\")"
   ]
  },
  {
   "cell_type": "code",
   "execution_count": null,
   "id": "7700693f-bc08-4963-b509-ba0914bb2bbe",
   "metadata": {},
   "outputs": [],
   "source": []
  },
  {
   "cell_type": "markdown",
   "id": "94dfa433-3ee4-46f1-922f-ade4cd5c7cc8",
   "metadata": {},
   "source": [
    "# Question 14"
   ]
  },
  {
   "cell_type": "markdown",
   "id": "b89ae1f7-1429-4576-9afc-f0f06c8c2774",
   "metadata": {},
   "source": [
    "Write a program to find the maximum element in a 2D list using a nested `for` loop"
   ]
  },
  {
   "cell_type": "code",
   "execution_count": 15,
   "id": "3920bc44-41a1-49f1-8752-68a42c0014fc",
   "metadata": {},
   "outputs": [
    {
     "name": "stdout",
     "output_type": "stream",
     "text": [
      "The maximum element is: 9\n"
     ]
    }
   ],
   "source": [
    "# Defining a 2D list.\n",
    "matrix_1 = [[1, 2, 3],\n",
    "          [4, 5, 6],\n",
    "          [7, 8, 9]]\n",
    "\n",
    "# Initializing the maximum element.\n",
    "max_element = matrix_1[0][0]\n",
    "\n",
    "# Iterating through the 2D list.\n",
    "#for loop can be implemented in here\n",
    "for row in matrix_1:\n",
    "    for element in row: #using another for loop in to iterate each and every indexes \n",
    "        if element > max_element:\n",
    "            max_element = element #if the value if element is more than max element then the value will stored into max_element\n",
    "\n",
    "# Print the maximum element.\n",
    "print(f\"The maximum element is: {max_element}\")"
   ]
  },
  {
   "cell_type": "code",
   "execution_count": 2,
   "id": "aacac9c3-5f3d-4f7e-829f-925aaf13e32f",
   "metadata": {},
   "outputs": [],
   "source": []
  },
  {
   "cell_type": "markdown",
   "id": "b2273c9d-8cf0-4315-be7d-c9bba2a4ab7e",
   "metadata": {},
   "source": [
    "# Question 15"
   ]
  },
  {
   "cell_type": "markdown",
   "id": "d0db0a9f-51c1-4837-a3d2-d68073ee6508",
   "metadata": {},
   "source": [
    "Create a program that removes all occurrences of a specific element from a list using a `for` loop"
   ]
  },
  {
   "cell_type": "code",
   "execution_count": 4,
   "id": "88650cf5-99cb-44aa-bc27-d04da15af8bd",
   "metadata": {},
   "outputs": [
    {
     "name": "stdout",
     "output_type": "stream",
     "text": [
      "the initial list before making changes: [1, 2, 3, 4, 5]\n",
      "new list after changes made: [1, 2, 3, 5]\n"
     ]
    }
   ],
   "source": [
    "# Defining a function which can remove all occurrences of specific element from a list\n",
    "# an user defined function is needed for this scenario\n",
    "def remove_element(list, element):\n",
    "    \n",
    "  # Creating a new list to store the filtered elements\n",
    "  new_list = []\n",
    "    \n",
    "  # Iterating over the original list\n",
    "  for item in list:\n",
    "        \n",
    "    # If the item is not equal to the element to be removed, that item will add it to the new list\n",
    "    if item != element:\n",
    "        new_list.append(item)\n",
    "        \n",
    "  # Returning the new list\n",
    "  return new_list\n",
    "\n",
    "# checking code\n",
    "# Creating a list of some numbers\n",
    "list_1 = [1, 2, 3, 4, 5]\n",
    "\n",
    "\n",
    "# printing the initial list\n",
    "print(f\"the initial list before making changes: {list_1}\")\n",
    "\n",
    "\n",
    "# Removing all occurrences of the element 4\n",
    "new_list = remove_element(list_1, 4)\n",
    "\n",
    "\n",
    "# Printing the new list\n",
    "print(f\"new list after changes made: {new_list}\")"
   ]
  },
  {
   "cell_type": "code",
   "execution_count": null,
   "id": "fa5dea03-37e9-4c4a-bad9-fea9ff86e26f",
   "metadata": {},
   "outputs": [],
   "source": []
  },
  {
   "cell_type": "markdown",
   "id": "a28221b7-91fc-423d-90a2-f071244a2d25",
   "metadata": {},
   "source": [
    "# Question 16"
   ]
  },
  {
   "cell_type": "markdown",
   "id": "bc375ecd-a7de-460d-a7ff-24d7d554db48",
   "metadata": {},
   "source": [
    "Develop a program that generates a multiplication table for numbers from 1 to 5 using a nested `for` loop"
   ]
  },
  {
   "cell_type": "code",
   "execution_count": 5,
   "id": "ccd0f6a4-0e11-4a4a-90db-b925ca4bbb75",
   "metadata": {},
   "outputs": [
    {
     "name": "stdout",
     "output_type": "stream",
     "text": [
      "Multiplication table for 1 is:\n",
      "1 x 1 = 1\n",
      "1 x 2 = 2\n",
      "1 x 3 = 3\n",
      "1 x 4 = 4\n",
      "1 x 5 = 5\n",
      "1 x 6 = 6\n",
      "1 x 7 = 7\n",
      "1 x 8 = 8\n",
      "1 x 9 = 9\n",
      "1 x 10 = 10\n",
      "\n",
      "Multiplication table for 2 is:\n",
      "2 x 1 = 2\n",
      "2 x 2 = 4\n",
      "2 x 3 = 6\n",
      "2 x 4 = 8\n",
      "2 x 5 = 10\n",
      "2 x 6 = 12\n",
      "2 x 7 = 14\n",
      "2 x 8 = 16\n",
      "2 x 9 = 18\n",
      "2 x 10 = 20\n",
      "\n",
      "Multiplication table for 3 is:\n",
      "3 x 1 = 3\n",
      "3 x 2 = 6\n",
      "3 x 3 = 9\n",
      "3 x 4 = 12\n",
      "3 x 5 = 15\n",
      "3 x 6 = 18\n",
      "3 x 7 = 21\n",
      "3 x 8 = 24\n",
      "3 x 9 = 27\n",
      "3 x 10 = 30\n",
      "\n",
      "Multiplication table for 4 is:\n",
      "4 x 1 = 4\n",
      "4 x 2 = 8\n",
      "4 x 3 = 12\n",
      "4 x 4 = 16\n",
      "4 x 5 = 20\n",
      "4 x 6 = 24\n",
      "4 x 7 = 28\n",
      "4 x 8 = 32\n",
      "4 x 9 = 36\n",
      "4 x 10 = 40\n",
      "\n",
      "Multiplication table for 5 is:\n",
      "5 x 1 = 5\n",
      "5 x 2 = 10\n",
      "5 x 3 = 15\n",
      "5 x 4 = 20\n",
      "5 x 5 = 25\n",
      "5 x 6 = 30\n",
      "5 x 7 = 35\n",
      "5 x 8 = 40\n",
      "5 x 9 = 45\n",
      "5 x 10 = 50\n",
      "\n"
     ]
    }
   ],
   "source": [
    "# for executing this question, range is defined for the multiplication table\n",
    "start = 1\n",
    "end = 5\n",
    "\n",
    "# iterating through the range\n",
    "#for loop used in this scenario\n",
    "for i in range(start, end+1):\n",
    "    print(f\"Multiplication table for {i} is:\") # printing the heading\n",
    "    \n",
    "    # Nested loop is implemented here\n",
    "    for j in range(1,11):\n",
    "        result = i*j\n",
    "        print(f\"{i} x {j} = {result}\")\n",
    "        \n",
    "    #adding a new line to separate the multiplication tables \n",
    "    print()"
   ]
  },
  {
   "cell_type": "code",
   "execution_count": null,
   "id": "b35d9315-43b4-4ba1-8cfd-d4719475a809",
   "metadata": {},
   "outputs": [],
   "source": []
  },
  {
   "cell_type": "markdown",
   "id": "85feffcb-5c5c-424f-b3ad-e474aa47a564",
   "metadata": {},
   "source": [
    "# Question 17"
   ]
  },
  {
   "cell_type": "markdown",
   "id": "86305504-ddb4-4897-9bff-4173774cb85c",
   "metadata": {},
   "source": [
    "Write a program that converts a list of Fahrenheit temperatures to Celsius using a `for` loop"
   ]
  },
  {
   "cell_type": "code",
   "execution_count": 6,
   "id": "2159d751-8e5c-48c1-9288-0e712831923e",
   "metadata": {},
   "outputs": [
    {
     "name": "stdout",
     "output_type": "stream",
     "text": [
      "Fahrenheit Temparature list: [32, 50, 77, 104, 212]\n",
      "Celsius Temparature list: [0.0, 10.0, 25.0, 40.0, 100.0]\n"
     ]
    }
   ],
   "source": [
    "# creating a list of fahrenheit temparatures\n",
    "f_list = [32,50,77,104,212]\n",
    "\n",
    "\n",
    "# creating an emplty list of celsius temparature \n",
    "c_list = []\n",
    "\n",
    "\n",
    "# converting fahrenheit tepmarature to celsius temparature using for loop\n",
    "for temp in f_list:\n",
    "    celsius = (temp - 32) *5/9\n",
    "    c_list.append(celsius)\n",
    "    \n",
    "    \n",
    "print(f\"Fahrenheit Temparature list: {f_list}\")\n",
    "print(f\"Celsius Temparature list: {c_list}\")"
   ]
  },
  {
   "cell_type": "code",
   "execution_count": null,
   "id": "da97427f-9f0c-401b-b8d4-5b31d7e88124",
   "metadata": {},
   "outputs": [],
   "source": []
  },
  {
   "cell_type": "markdown",
   "id": "93971224-d891-4820-a1ac-db01d58fbbd9",
   "metadata": {},
   "source": [
    "# Question 18"
   ]
  },
  {
   "cell_type": "markdown",
   "id": "90bc5e78-204c-43b1-8fb4-595868036774",
   "metadata": {},
   "source": [
    "Create a program to print the common elements from two lists using a `for` loop"
   ]
  },
  {
   "cell_type": "code",
   "execution_count": 31,
   "id": "3d63fea3-64ac-4bd7-93c3-399a0d88e8f7",
   "metadata": {},
   "outputs": [
    {
     "name": "stdout",
     "output_type": "stream",
     "text": [
      "list 1: [1, 2, 3, 4, 5, 6]\n",
      "list 2: [5, 6, 7, 8, 9, 10]\n",
      "the common element between list 1 and list 2 are: [5, 6]\n"
     ]
    }
   ],
   "source": [
    "# in this scenatrio, we need two list \n",
    "# creating two list\n",
    "l1 = [1,2,3,4,5,6]\n",
    "l2 = [5,6,7,8,9,10]\n",
    "\n",
    "\n",
    "# prining the lists\n",
    "print(f\"list 1: {l1}\")\n",
    "print(f\"list 2: {l2}\")\n",
    "\n",
    "# creating a list of common elements\n",
    "common_list = []\n",
    "\n",
    "\n",
    "# implementing for loop\n",
    "for element in l1:\n",
    "    if element in l2:\n",
    "        common_list.append(element)\n",
    "        \n",
    "        \n",
    "# printing the common elements\n",
    "print(f\"the common element between list 1 and list 2 are: {common_list}\")"
   ]
  },
  {
   "cell_type": "code",
   "execution_count": null,
   "id": "fe2312b7-1d9a-468e-85b7-4362afb59e19",
   "metadata": {},
   "outputs": [],
   "source": []
  },
  {
   "cell_type": "markdown",
   "id": "9c95dfae-bad4-4719-980e-94db48b647a2",
   "metadata": {},
   "source": [
    "# Question 19"
   ]
  },
  {
   "cell_type": "markdown",
   "id": "defb3669-243c-4e56-a340-0a01edc8b416",
   "metadata": {},
   "source": [
    "Develop a program that prints the pattern of right-angled triangles using a `for` loop. Use ‘*’ to draw the\n",
    "pattern"
   ]
  },
  {
   "cell_type": "code",
   "execution_count": 37,
   "id": "6346179b-8bfb-49db-9d49-47fbe070feef",
   "metadata": {},
   "outputs": [
    {
     "name": "stdout",
     "output_type": "stream",
     "text": [
      "* \n",
      "* * \n",
      "* * * \n",
      "* * * * \n",
      "* * * * * \n",
      "* * * * * * \n",
      "* * * * * * * \n",
      "* * * * * * * * \n",
      "* * * * * * * * * \n",
      "* * * * * * * * * * \n"
     ]
    }
   ],
   "source": [
    "# first we need to define the number of rows for making this right angled triangle\n",
    "rows = 10\n",
    "\n",
    "# implementing for loop\n",
    "for i in range(1, rows+1):\n",
    "    \n",
    "    # implementing inner loop to print the ' * ' \n",
    "    for j in range(i):\n",
    "        print(\"*\", end = \" \")\n",
    "        \n",
    "        #moving the next line after printing the above line \n",
    "    print()"
   ]
  },
  {
   "cell_type": "code",
   "execution_count": null,
   "id": "4dd605c5-b885-40c1-ae2b-82377e4bd4f6",
   "metadata": {},
   "outputs": [],
   "source": []
  },
  {
   "cell_type": "markdown",
   "id": "9b6aee52-b817-4de2-a4db-2a1b090f0c9c",
   "metadata": {},
   "source": [
    "# Question 20 "
   ]
  },
  {
   "cell_type": "markdown",
   "id": "777bf89e-3f28-491c-a338-31de40784deb",
   "metadata": {},
   "source": [
    "Write a program to find the greatest common divisor (GCD) of two numbers using a `for` loop"
   ]
  },
  {
   "cell_type": "code",
   "execution_count": 13,
   "id": "294c763c-7c56-42c6-8c78-b3bd8401b9cf",
   "metadata": {},
   "outputs": [
    {
     "name": "stdin",
     "output_type": "stream",
     "text": [
      "enter first number: 10\n",
      "enter second number: 20\n"
     ]
    },
    {
     "name": "stdout",
     "output_type": "stream",
     "text": [
      "GCD of 10 and 20 are: 5\n"
     ]
    }
   ],
   "source": [
    "# taking user input for implementing code\n",
    "# taking user input and stored into num_1 and num_2 variable\n",
    "try :\n",
    "    \n",
    "    num_1 = int(input(\"enter first number:\"))\n",
    "    num_2 = int(input(\"enter second number:\"))\n",
    "\n",
    "\n",
    "    # gcd taken as 1 before implementing code\n",
    "    gcd = 1\n",
    "\n",
    "\n",
    "    # using for loop in this case\n",
    "    for i in range(1, min(num_1,num_2)):\n",
    "        #if the first and second number both leaves no remainder then gcd will be minimum value of either num_1 or num_2 \n",
    "        # if there is no common factor between num_1 and num_2, then it returns gcd as 1\n",
    "        if num_1%i ==0 and num_2%i == 0:\n",
    "            gcd = i\n",
    "\n",
    "    print(f\"GCD of {num_1} and {num_2} are: {gcd}\")\n",
    "    \n",
    "except Exception as e :\n",
    "    print(e)"
   ]
  },
  {
   "cell_type": "code",
   "execution_count": null,
   "id": "21b91973-8a94-4b73-97ce-a0ae458e9fa0",
   "metadata": {},
   "outputs": [],
   "source": []
  },
  {
   "cell_type": "code",
   "execution_count": null,
   "id": "937c715f-27df-490a-98d8-587070b1a1cb",
   "metadata": {},
   "outputs": [],
   "source": []
  },
  {
   "cell_type": "markdown",
   "id": "dc7e4dcb-a9cb-42ff-a031-2f93ee04ad9a",
   "metadata": {},
   "source": [
    "# Advanced Level"
   ]
  },
  {
   "cell_type": "markdown",
   "id": "9be23d12-05a0-4641-a09f-13751959cbed",
   "metadata": {},
   "source": [
    "# Question 21"
   ]
  },
  {
   "cell_type": "markdown",
   "id": "096f51fc-a6d1-4bad-ba8a-b1fe629482c4",
   "metadata": {},
   "source": [
    "Create a program that calculates the sum of the digits of numbers in a list using a list comprehension"
   ]
  },
  {
   "cell_type": "code",
   "execution_count": 74,
   "id": "2ad9f9a8-69a4-4652-a6ec-a6b405af42b0",
   "metadata": {},
   "outputs": [
    {
     "name": "stdout",
     "output_type": "stream",
     "text": [
      "sum of digits in 12 is: 3\n",
      "sum of digits in 67 is: 13\n",
      "sum of digits in 98 is: 17\n",
      "sum of digits in 54 is: 9\n",
      "sum of digits in 104 is: 5\n"
     ]
    }
   ],
   "source": [
    "# in this case we need a list of elements first \n",
    "l1 = [12,67,98,54,104]\n",
    "\n",
    "sums = [sum(int(digit) for digit in str(num)) for num in l1]\n",
    "\n",
    "for i, num in enumerate(l1):\n",
    "    print(f\"sum of digits in {l1[i]} is: {sums[i]}\")"
   ]
  },
  {
   "cell_type": "code",
   "execution_count": null,
   "id": "b01b1cff-790e-47c4-b958-0030c7a73a3e",
   "metadata": {},
   "outputs": [],
   "source": []
  },
  {
   "cell_type": "markdown",
   "id": "4612d3c2-da55-41ea-b27c-9b425bff10c3",
   "metadata": {},
   "source": [
    "# Question 22"
   ]
  },
  {
   "cell_type": "markdown",
   "id": "a40f4aa6-1c31-47f4-b81f-42fbbb412837",
   "metadata": {},
   "source": [
    "Write a program to find the prime factors of a given number using a `for` loop and list comprehension"
   ]
  },
  {
   "cell_type": "code",
   "execution_count": 21,
   "id": "3c459cea-d17e-4782-9aa8-39383986da8e",
   "metadata": {},
   "outputs": [
    {
     "name": "stdin",
     "output_type": "stream",
     "text": [
      "Enter lower range:  10.5\n"
     ]
    },
    {
     "name": "stdout",
     "output_type": "stream",
     "text": [
      "invalid literal for int() with base 10: '10.5'\n"
     ]
    }
   ],
   "source": [
    "# first we need lower and upper range\n",
    "# we can take user input in this scenario\n",
    "\n",
    "try:\n",
    "    \n",
    "    lower = int(input(\"Enter lower range: \"))\n",
    "    upper = int(input(\"Enter upper range: \"))\n",
    "    \n",
    "    prime_factor = [x for x in range(lower, upper+1) if x>1 if all(x % y != 0 for y in range(2, x))]\n",
    "    \n",
    "    print(prime_factor)\n",
    "    \n",
    "except Exception as e :\n",
    "    print(e)"
   ]
  },
  {
   "cell_type": "code",
   "execution_count": null,
   "id": "3605c892-2571-49d9-b45b-604f102d44e6",
   "metadata": {},
   "outputs": [],
   "source": []
  },
  {
   "cell_type": "markdown",
   "id": "a3724e6c-0b4a-4cf2-9829-18929feea4c5",
   "metadata": {},
   "source": [
    "# Question 23"
   ]
  },
  {
   "cell_type": "markdown",
   "id": "c0fc224c-643e-4103-876d-8021b8af68e9",
   "metadata": {},
   "source": [
    "Develop a program that extracts unique elements from a list and stores them in a new list using a list\n",
    "comprehension"
   ]
  },
  {
   "cell_type": "code",
   "execution_count": 62,
   "id": "91f5a18a-aab7-4648-b699-709e284c7c69",
   "metadata": {},
   "outputs": [
    {
     "name": "stdout",
     "output_type": "stream",
     "text": [
      "Original List: [1, 4, 7, 5, 8, 4, 1, 2, 3, 9, 5, 6, 8, 2, 1, 3, 6, 7, 9, 7, 5, 6]\n",
      "Set of Unique Values: [1, 2, 3, 4, 5, 6, 7, 8, 9]\n"
     ]
    }
   ],
   "source": [
    "# creating a list with some duplicate values\n",
    "original_list = [1,4,7,5,8,4,1,2,3,9,5,6,8,2,1,3,6,7,9,7,5,6,]\n",
    "\n",
    "# printing the original list\n",
    "print(f\"Original List: {original_list}\")\n",
    "\n",
    "# converting the list into set for geting all the unique values\n",
    "unique_element = set(original_list)\n",
    "\n",
    "\n",
    "# converting the set to list again\n",
    "unique_element_2 = list(unique_element)\n",
    "\n",
    "# printing the set of unique values\n",
    "print(f\"Set of Unique Values: {unique_element_2}\")"
   ]
  },
  {
   "cell_type": "code",
   "execution_count": null,
   "id": "f21389d1-d487-43ec-a251-179f0e1f65cb",
   "metadata": {},
   "outputs": [],
   "source": []
  },
  {
   "cell_type": "markdown",
   "id": "a77ab9d2-f8e5-4c63-b951-0e5c0f829a5b",
   "metadata": {},
   "source": [
    "# Question 24"
   ]
  },
  {
   "cell_type": "markdown",
   "id": "0003c2a5-3033-4e50-baa9-41edce474348",
   "metadata": {},
   "source": [
    "Create a program that generates a list of all palindromic numbers up to a specified limit using a list\n",
    "comprehension"
   ]
  },
  {
   "cell_type": "code",
   "execution_count": 24,
   "id": "b47ee33b-0875-4742-9995-7d95196f80f5",
   "metadata": {},
   "outputs": [
    {
     "name": "stdin",
     "output_type": "stream",
     "text": [
      "Enter upper limit for generating plaindromic numbers:  10.5\n"
     ]
    },
    {
     "name": "stdout",
     "output_type": "stream",
     "text": [
      "invalid literal for int() with base 10: '10.5'\n"
     ]
    }
   ],
   "source": [
    "# user defined function is created for checking palindromic numbers\n",
    "try :\n",
    "    \n",
    "    def is_palindrome(number):\n",
    "        return str(number) == str(number)[::-1]\n",
    "\n",
    "    # taking an upper limit from user \n",
    "    limit = int(input(\"Enter upper limit for generating plaindromic numbers: \"))\n",
    "\n",
    "\n",
    "    # Using a list comprehension to generate palindromic numbers (from 10)\n",
    "    # for loop is used in this case\n",
    "    # list comprehension is used in this case\n",
    "    palindrome_number = [num for num in range(10,limit + 1) if is_palindrome(num)]\n",
    "\n",
    "\n",
    "    # Printing the palindromic numbers\n",
    "    print(\"Palindromic Numbers up to\", limit, \"are:\", palindrome_number)\n",
    "    \n",
    "except Exception as e :\n",
    "    print(e)"
   ]
  },
  {
   "cell_type": "code",
   "execution_count": null,
   "id": "548c0f50-191e-44f4-a5bd-871ba303eb39",
   "metadata": {},
   "outputs": [],
   "source": []
  },
  {
   "cell_type": "markdown",
   "id": "1ec2153e-67b9-4183-a1a8-b3b9b6b5b77b",
   "metadata": {},
   "source": [
    "# Question 25"
   ]
  },
  {
   "cell_type": "markdown",
   "id": "9d64b0d2-364d-47dc-86e0-65684462ef67",
   "metadata": {},
   "source": [
    "Write a program to flatten a nested list using list comprehension"
   ]
  },
  {
   "cell_type": "code",
   "execution_count": 87,
   "id": "2a8f293d-6fe3-4288-a738-89799f2fdf09",
   "metadata": {},
   "outputs": [
    {
     "name": "stdout",
     "output_type": "stream",
     "text": [
      "the nested list: [[1, 2, 3], [4, 5, 6], [7, 8]]\n",
      "Flattened List: [1, 2, 3, 4, 5, 6, 7, 8]\n"
     ]
    }
   ],
   "source": [
    "# an user defined function is created in this case\n",
    "# list comprehension is used in this case\n",
    "def flatten_list(nested_list):\n",
    "    return [item for sublist in nested_list for item in sublist]\n",
    "\n",
    "# taking a nested list\n",
    "nested_list = [[1, 2, 3], [4, 5,6], [7, 8]]\n",
    "\n",
    "# printing the nested list\n",
    "print(f\"the nested list: {nested_list}\")\n",
    "\n",
    "\n",
    "# flatten the nested list\n",
    "flatted_list = flatten_list(nested_list)\n",
    "\n",
    "\n",
    "# Printing the flattened list\n",
    "print(\"Flattened List:\", flatted_list)"
   ]
  },
  {
   "cell_type": "code",
   "execution_count": null,
   "id": "550e754a-5da7-4363-8463-79e3c62e1b2d",
   "metadata": {},
   "outputs": [],
   "source": []
  },
  {
   "cell_type": "markdown",
   "id": "ea470c2d-b41d-41ac-b723-25a16ae30f67",
   "metadata": {},
   "source": [
    "# Question 26"
   ]
  },
  {
   "cell_type": "markdown",
   "id": "3a3bc162-8068-4d94-815f-16a63a683bcd",
   "metadata": {},
   "source": [
    "Develop a program that computes the sum of even and odd numbers in a list separately using list comprehension"
   ]
  },
  {
   "cell_type": "code",
   "execution_count": 42,
   "id": "b6901af3-b568-44c1-8723-9273a47c2e6c",
   "metadata": {},
   "outputs": [
    {
     "name": "stdout",
     "output_type": "stream",
     "text": [
      "the list is: [1, 2, 3, 4, 5, 6, 7, 8, 9, 10]\n",
      "sum of the even numbers of the list is: 30\n",
      "sum of the even numbers of the list is: 25\n"
     ]
    }
   ],
   "source": [
    "# creating a list \n",
    "l = [1,2,3,4,5,6,7,8,9,10]\n",
    "\n",
    "\n",
    "# printing the list\n",
    "print(f\"the list is: {l}\")\n",
    "\n",
    "\n",
    "# creating separate lists for computing sum of odd nums and sum of even numbers\n",
    "odd_nums = []\n",
    "even_nums = []\n",
    "\n",
    "\n",
    "# using for loop comprehension for separating the odd numbers and even numbers\n",
    "odd_even = [even_nums.append(i) if i%2 == 0 else odd_nums.append(i) for i in l]\n",
    "\n",
    "\n",
    "\n",
    "# printing the sum of the even list\n",
    "print(f\"sum of the even numbers of the list is: {sum(even_nums)}\")\n",
    "\n",
    "\n",
    "# printing the sum of the odd list\n",
    "print(f\"sum of the even numbers of the list is: {sum(odd_nums)}\")"
   ]
  },
  {
   "cell_type": "code",
   "execution_count": null,
   "id": "e3fdf5f4-7d06-4de0-8dc7-dddf0e0ce426",
   "metadata": {},
   "outputs": [],
   "source": []
  },
  {
   "cell_type": "markdown",
   "id": "0b0ca8d1-fbfc-40df-b90f-b4b6f1a7e7f8",
   "metadata": {},
   "source": [
    "# Question 27"
   ]
  },
  {
   "cell_type": "markdown",
   "id": "6759cccf-9437-4664-8816-a8b894e6b7bd",
   "metadata": {},
   "source": [
    "Create a program that generates a list of squares of odd numbers between 1 and 10 using list comprehension"
   ]
  },
  {
   "cell_type": "code",
   "execution_count": 93,
   "id": "f99ce91b-ecf9-4f55-b8c7-39ddc0468bf5",
   "metadata": {},
   "outputs": [
    {
     "name": "stdout",
     "output_type": "stream",
     "text": [
      "the list taken in this case is: [1, 2, 3, 4, 5, 6, 7, 8, 9, 10]\n",
      "the odd numbers from the list l are: [1, 3, 5, 7, 9]\n",
      "the list of the square of odd numbers from the list is: [1, 9, 25, 49, 81]\n"
     ]
    }
   ],
   "source": [
    "# creating a list form 1 to 10 \n",
    "l = [1,2,3,4,5,6,7,8,9,10]\n",
    "\n",
    "# printing the list\n",
    "print(f\"the list taken in this case is: {l}\")\n",
    "\n",
    "\n",
    "# creating a blank list for placing the odd numbers and even numbers separately from the list l\n",
    "odd_list = []\n",
    "\n",
    "\n",
    "# separating the odd numbers form the list using list comprehension\n",
    "\n",
    "new_list = [odd_list.append(i) for i in l if i%2 != 0]\n",
    "\n",
    "\n",
    "# printing the odd list\n",
    "print(f\"the odd numbers from the list l are: {odd_list}\")\n",
    "\n",
    "\n",
    "# generating square of the odd numbers using list comprehenstion\n",
    "square_list = [i **2 for i in odd_list]\n",
    "\n",
    "\n",
    "# printing the square list after making square of the odd numbers\n",
    "print(f\"the list of the square of odd numbers from the list is: {square_list}\")"
   ]
  },
  {
   "cell_type": "code",
   "execution_count": null,
   "id": "c8d9c5f4-29d4-4c28-bf16-a97406127dc7",
   "metadata": {},
   "outputs": [],
   "source": []
  },
  {
   "cell_type": "markdown",
   "id": "8e470383-e56e-4d19-aec9-64e93b8fd3d9",
   "metadata": {},
   "source": [
    "# Question 28"
   ]
  },
  {
   "cell_type": "markdown",
   "id": "17af8ac6-19ba-40c1-9ae8-47170957f70d",
   "metadata": {},
   "source": [
    "Write a program that combines two lists into a dictionary using list comprehension"
   ]
  },
  {
   "cell_type": "code",
   "execution_count": 71,
   "id": "c1b25311-f3f7-4aa6-bb1a-85c98640b6c6",
   "metadata": {},
   "outputs": [
    {
     "name": "stdout",
     "output_type": "stream",
     "text": [
      "the key list is: ['sunday', 'monday', 'tuesday', 'wednesday', 'thursday', 'friday', 'saturday']\n",
      "the value list is: [1, 2, 3, 4, 5, 6, 7]\n"
     ]
    }
   ],
   "source": [
    "# creating two lists as key_list and value_list\n",
    "key_list = [\"sunday\",\"monday\",\"tuesday\",\"wednesday\",\"thursday\",\"friday\",\"saturday\"]\n",
    "value_list = [1,2,3,4,5,6,7]\n",
    "\n",
    "\n",
    "# printing the key list and the value list\n",
    "print(f\"the key list is: {key_list}\")\n",
    "print(f\"the value list is: {value_list}\")"
   ]
  },
  {
   "cell_type": "code",
   "execution_count": 74,
   "id": "2f1fc3d6-98b6-41cc-bde4-2686d56f5167",
   "metadata": {},
   "outputs": [],
   "source": [
    "# implementing the list comprehension to combine the lists and convert them into dictionary\n",
    "# in this scenario we can do dict() and map() function typecasting to get the desired output\n",
    "\n",
    "result = dict(map(lambda a,b : (a,b), key_list,value_list))"
   ]
  },
  {
   "cell_type": "code",
   "execution_count": 76,
   "id": "8be3176e-90bf-485f-85dc-05daae325c7d",
   "metadata": {},
   "outputs": [
    {
     "name": "stdout",
     "output_type": "stream",
     "text": [
      "the resultant dictionary is: {'sunday': 1, 'monday': 2, 'tuesday': 3, 'wednesday': 4, 'thursday': 5, 'friday': 6, 'saturday': 7}\n"
     ]
    }
   ],
   "source": [
    "# printing the dictionary\n",
    "print(f\"the resultant dictionary is: {result}\")"
   ]
  },
  {
   "cell_type": "code",
   "execution_count": null,
   "id": "e146644c-83a0-418d-be33-b3331ac79f5d",
   "metadata": {},
   "outputs": [],
   "source": []
  },
  {
   "cell_type": "markdown",
   "id": "cfe0b154-f2c5-4faf-9ca8-3ea7a69ee00c",
   "metadata": {},
   "source": [
    "# Question 29"
   ]
  },
  {
   "cell_type": "markdown",
   "id": "1ac3b80c-5dc2-4d01-8aa6-187f30db3db3",
   "metadata": {},
   "source": [
    "Develop a program that extracts the vowels from a string and stores them in a list using list comprehension"
   ]
  },
  {
   "cell_type": "code",
   "execution_count": 3,
   "id": "aed40437-66af-43fe-9846-c6220ef44404",
   "metadata": {},
   "outputs": [
    {
     "name": "stdout",
     "output_type": "stream",
     "text": [
      "the string is: dibyendu chowdhury\n",
      "the list of the vowels from the string is: ['o', 'i', 'u', 'e']\n"
     ]
    }
   ],
   "source": [
    "# creating a string in this case\n",
    "# I am using my name as string\n",
    "l = \"dibyendu chowdhury\"\n",
    "\n",
    "\n",
    "# printing the string\n",
    "print(f\"the string is: {l}\")\n",
    "\n",
    "\n",
    "# creating a blank list to store the vowels from the string\n",
    "list_of_vowels = []\n",
    "\n",
    "\n",
    "# using list comprehension for separating the vowels from the string\n",
    "list_of_vowels = [i for i in l if i in \"aeiouAEIOU\"]\n",
    "\n",
    "#making set of vowels for removing the duplicate values\n",
    "list_of_vowels_2 = set(list_of_vowels)\n",
    "\n",
    "#converting the set into list\n",
    "list_vowel = list(list_of_vowels_2)\n",
    "\n",
    "\n",
    "# printing the list\n",
    "print(f\"the list of the vowels from the string is: {list_vowel}\")"
   ]
  },
  {
   "cell_type": "code",
   "execution_count": 89,
   "id": "0ab60db4-2701-462f-9ab6-17d6e280e041",
   "metadata": {},
   "outputs": [],
   "source": []
  },
  {
   "cell_type": "markdown",
   "id": "9ebfab8c-e960-42c4-8e63-8c7361929cac",
   "metadata": {},
   "source": [
    "# Question 30"
   ]
  },
  {
   "cell_type": "markdown",
   "id": "071e078f-c627-4624-b687-ff6a2e9b5f2e",
   "metadata": {},
   "source": [
    "Create a program that removes all non-numeric characters from a list of strings using list comprehension"
   ]
  },
  {
   "cell_type": "code",
   "execution_count": 27,
   "id": "e0c78208-1deb-47d7-a7d0-ab9d0ac6950b",
   "metadata": {},
   "outputs": [
    {
     "name": "stdout",
     "output_type": "stream",
     "text": [
      "the initial list with all numeric and non numeric string: ['hello1', 'this2', 'is3', 'pw4', 'skills5']\n",
      "after removing all non numeric character, the final list is: ['1', '2', '3', '4', '5']\n"
     ]
    }
   ],
   "source": [
    "# taking a list of string with some numeric and non numeric character\n",
    "l = [\"hello1\", \"this2\", \"is3\", \"pw4\", \"skills5\"]\n",
    "\n",
    "\n",
    "\n",
    "#printing the list\n",
    "print(f\"the initial list with all numeric and non numeric string: {l}\")\n",
    "\n",
    "\n",
    "# creating an user defined function for removing all non-numeric character from the list of the strings\n",
    "# importing digits\n",
    "from string import digits\n",
    "\n",
    "def remove_non_numeric(l) :\n",
    "    l2 = [\" \".join(x for x in i if x.isnumeric()) for i in l] #implementing list comprehension\n",
    "    \n",
    "    return l2\n",
    "\n",
    "\n",
    "# testing function \n",
    "print(f\"after removing all non numeric character, the final list is: {remove_non_numeric(l)}\")"
   ]
  },
  {
   "cell_type": "code",
   "execution_count": null,
   "id": "13034ab3-e87a-4ccc-b8ee-089956d61d5e",
   "metadata": {},
   "outputs": [],
   "source": []
  },
  {
   "cell_type": "markdown",
   "id": "39b722b2-c2cc-41d9-b91a-d96ce4e9d313",
   "metadata": {},
   "source": [
    "# Challenge Level"
   ]
  },
  {
   "cell_type": "markdown",
   "id": "ec3e11c8-8ad1-417a-8508-3c9fbfe394bd",
   "metadata": {},
   "source": [
    "# Question 31"
   ]
  },
  {
   "cell_type": "markdown",
   "id": "99e320a4-4a16-45cc-b284-1ed3ae1c5a69",
   "metadata": {},
   "source": [
    "Write a program to generate a list of prime numbers using the Sieve of Eratosthenes algorithm and list comprehension"
   ]
  },
  {
   "cell_type": "code",
   "execution_count": null,
   "id": "dc382be6-5502-4c3a-8643-7b2c47646ab8",
   "metadata": {},
   "outputs": [],
   "source": []
  },
  {
   "cell_type": "code",
   "execution_count": null,
   "id": "8bcdb874-8ddd-43f4-8a33-73370a69d642",
   "metadata": {},
   "outputs": [],
   "source": []
  },
  {
   "cell_type": "markdown",
   "id": "0f43fddf-3998-4dbc-ab03-774bda84bfd3",
   "metadata": {},
   "source": [
    "# Question 32"
   ]
  },
  {
   "cell_type": "markdown",
   "id": "1da601c9-f463-4222-a99c-b5f3a05ea83c",
   "metadata": {},
   "source": [
    "Create a program that generates a list of all Pythagorean triplets up to a specified limit using list comprehension."
   ]
  },
  {
   "cell_type": "code",
   "execution_count": 9,
   "id": "f7f8e800-bb9d-4d1e-9a77-7487803fd30d",
   "metadata": {},
   "outputs": [
    {
     "name": "stdin",
     "output_type": "stream",
     "text": [
      "enter the number upto which you want to check the pythagorean tripletes:  10.54\n"
     ]
    },
    {
     "name": "stdout",
     "output_type": "stream",
     "text": [
      "invalid literal for int() with base 10: '10.54'\n"
     ]
    }
   ],
   "source": [
    "try :\n",
    "    limit = int(input(\"enter the number upto which you want to check the pythagorean tripletes: \"))\n",
    "    \n",
    "    triplets = [(a,b,c) for a in range(1, limit+1) for b in range(a, limit+1) for c in range(b, limit+1) if a**2 + b**2 == c**2]\n",
    "    print(triplets)\n",
    "    \n",
    "except Exception as e :\n",
    "    print(e)"
   ]
  },
  {
   "cell_type": "code",
   "execution_count": null,
   "id": "38b7276f-cbcb-425c-bc44-043887e30879",
   "metadata": {},
   "outputs": [],
   "source": []
  },
  {
   "cell_type": "markdown",
   "id": "8ffc5565-cb5d-490b-b09e-aa53b0c5de44",
   "metadata": {},
   "source": [
    "# Question 33"
   ]
  },
  {
   "cell_type": "markdown",
   "id": "3015e16f-f11f-4a82-b851-9155fc482de6",
   "metadata": {},
   "source": [
    "Develop a program that generates a list of all possible combinations of two lists using list comprehension"
   ]
  },
  {
   "cell_type": "code",
   "execution_count": 41,
   "id": "7b68d527-fb1f-45f4-a5d2-4f71da39f1cf",
   "metadata": {},
   "outputs": [
    {
     "name": "stdout",
     "output_type": "stream",
     "text": [
      "the initial lists are: [1, 2, 3][4, 5, 6][7, 8, 9]\n",
      "all possible combinations are: [[1, 4, 7], [1, 4, 8], [1, 4, 9], [1, 5, 7], [1, 5, 8], [1, 5, 9], [1, 6, 7], [1, 6, 8], [1, 6, 9], [2, 4, 7], [2, 4, 8], [2, 4, 9], [2, 5, 7], [2, 5, 8], [2, 5, 9], [2, 6, 7], [2, 6, 8], [2, 6, 9], [3, 4, 7], [3, 4, 8], [3, 4, 9], [3, 5, 7], [3, 5, 8], [3, 5, 9], [3, 6, 7], [3, 6, 8], [3, 6, 9]]\n"
     ]
    }
   ],
   "source": [
    "# taking 3 list for answering this question\n",
    "\n",
    "list1 = [1,2,3]\n",
    "list2 = [4,5,6]\n",
    "list3 = [7,8,9]\n",
    "\n",
    "print(\"the initial lists are: \" + str(list1) + str(list2) + str(list3))\n",
    "\n",
    "\n",
    "# executing list comprehension to make all the possible outcomes of combinations\n",
    "combination = [[i,j,k] for i in list1 for j in list2 for k in list3]\n",
    "\n",
    "\n",
    "print(\"all possible combinations are: \" + str(combination))"
   ]
  },
  {
   "cell_type": "code",
   "execution_count": null,
   "id": "63facb02-7764-49e0-b0fa-da058defbe10",
   "metadata": {},
   "outputs": [],
   "source": []
  },
  {
   "cell_type": "markdown",
   "id": "7059a44f-0726-482f-ab11-ad42a0f3c539",
   "metadata": {},
   "source": [
    "# Question 34"
   ]
  },
  {
   "cell_type": "markdown",
   "id": "4223d10f-835b-4f56-9da5-92ceb56ac51f",
   "metadata": {},
   "source": [
    "Write a program that calculates the mean, median, and mode of a list of numbers using list comprehension"
   ]
  },
  {
   "cell_type": "code",
   "execution_count": 110,
   "id": "adeb3092-c1d8-472e-bd6f-b5a8f9d04661",
   "metadata": {},
   "outputs": [
    {
     "name": "stdout",
     "output_type": "stream",
     "text": [
      "the initial list is: [1, 2, 3, 4, 5, 6, 7, 8, 9, 6, 5, 4, 1, 2, 3, 7, 8, 4, 3, 3, 4, 5, 6, 4, 7, 8, 5, 4, 1]\n",
      "the mean value of the list is: [4.655172413793103]\n",
      "the median value of the list is: [4]\n",
      "mode of the list is:  4\n"
     ]
    }
   ],
   "source": [
    "# taking a list for making the operation\n",
    "l = [1,2,3,4,5,6,7,8,9,6,5,4,1,2,3,7,8,4,3,3,4,5,6,4,7,8,5,4,1]\n",
    "\n",
    "#printing the initial list\n",
    "print(f\"the initial list is: {l}\")\n",
    "\n",
    "\n",
    "# obtaining mean value\n",
    "mean_value = [sum(l)/len(l)]\n",
    "print(f\"the mean value of the list is: {mean_value}\")\n",
    "\n",
    "\n",
    "# for obtaining the median value of a list, first we need to sort the list\n",
    "l.sort()\n",
    "\n",
    "#obtaining median value\n",
    "# first obtaining the middle value from the list\n",
    "middle = len(l) // 2\n",
    "\n",
    "#implementing the list comprehension\n",
    "median = [(l[middle - 1] + l[middle]) / 2 if len(l) % 2 == 0 else l[middle]]\n",
    "\n",
    "#printing the median value\n",
    "print(f\"the median value of the list is: {median}\")\n",
    "\n",
    "\n",
    "\n",
    "# finding mode of the list\n",
    "# creating a list of tuples, where the first element is the number and the second element is the count of that number\n",
    "tuple_count = [(num, l.count(num)) for num in l]\n",
    "\n",
    "\n",
    "# finding the maximum count of the number\n",
    "max_count = max(count for num, count in tuple_count)\n",
    "\n",
    "\n",
    "# getting the list of numbers with max count\n",
    "modes = [num for num, count in tuple_count if count == max_count]\n",
    "\n",
    "\n",
    "# printing the mode value from the list\n",
    "#if there is muliple mode values then the numbers are presented using comma\n",
    "\n",
    "if len(modes) == len(l) :\n",
    "    print(\"there is no mode in the list\")\n",
    "else :\n",
    "    print(\"mode of the list is: \", \", \".join(map(str, set(modes))))"
   ]
  },
  {
   "cell_type": "code",
   "execution_count": null,
   "id": "b50c4bfe-94b0-4a00-9fe9-8fab79cb6aa5",
   "metadata": {},
   "outputs": [],
   "source": []
  },
  {
   "cell_type": "markdown",
   "id": "4792d9f5-cbcb-42c0-ae74-5aab41f5d291",
   "metadata": {},
   "source": [
    "# Question 35"
   ]
  },
  {
   "cell_type": "markdown",
   "id": "b713fd79-78c2-4bc4-b709-26a621452c31",
   "metadata": {},
   "source": [
    "Create a program that generates Pascal's triangle up to a specified number of rows using list comprehension"
   ]
  },
  {
   "cell_type": "code",
   "execution_count": null,
   "id": "c01ecdc2-0b9c-4136-80f7-ef365bfd0256",
   "metadata": {},
   "outputs": [],
   "source": []
  },
  {
   "cell_type": "code",
   "execution_count": null,
   "id": "930878d4-5f70-4941-b224-a2c9e7db4e08",
   "metadata": {},
   "outputs": [],
   "source": []
  },
  {
   "cell_type": "markdown",
   "id": "f0d1f3c8-ba2e-42ec-a3e3-739e0a3ac047",
   "metadata": {},
   "source": [
    "# Question 36"
   ]
  },
  {
   "cell_type": "markdown",
   "id": "af4815d7-ef18-4963-aa6d-4832f6ffa073",
   "metadata": {},
   "source": [
    "Develop a program that calculates the sum of the digits of a factorial of numbers from 1 to 5 using list comprehension"
   ]
  },
  {
   "cell_type": "code",
   "execution_count": 117,
   "id": "12cff512-d7aa-4b24-8b67-a3ae9653428c",
   "metadata": {},
   "outputs": [
    {
     "name": "stdout",
     "output_type": "stream",
     "text": [
      "The sum of digits of 1! is 1\n",
      "The sum of digits of 2! is 2\n",
      "The sum of digits of 3! is 6\n",
      "The sum of digits of 4! is 6\n",
      "The sum of digits of 5! is 3\n"
     ]
    }
   ],
   "source": [
    "# creating user-defined function for factorial\n",
    "\n",
    "def fact(n) :\n",
    "    if n <= 0 :\n",
    "        return 1\n",
    "    else :\n",
    "        return n * fact(n-1)\n",
    "    \n",
    "# creating an user defined function for measuring the sum of the digits\n",
    "def sum_of_digits(num) :\n",
    "    return sum(int(digit) for digit in str(num))\n",
    "\n",
    "# calculating the digits of numbers of factorial from 1 to 5\n",
    "fact_sum = [sum_of_digits(fact(n)) for n in range(1,6)]\n",
    "\n",
    "# printing the result\n",
    "for n, fact_sum in enumerate(fact_sum, start = 1) :\n",
    "    print(f\"The sum of digits of {n}! is {fact_sum}\")"
   ]
  },
  {
   "cell_type": "code",
   "execution_count": null,
   "id": "83a898cc-ccbe-46c9-b2ab-6935e19d3b08",
   "metadata": {},
   "outputs": [],
   "source": []
  },
  {
   "cell_type": "markdown",
   "id": "540dbb8a-5541-49f9-82f0-b1a70886d139",
   "metadata": {},
   "source": [
    "# Question 37"
   ]
  },
  {
   "cell_type": "markdown",
   "id": "97ce99c6-9552-4b58-8427-91f8085c9d2a",
   "metadata": {},
   "source": [
    "Write a program that finds the longest word in a sentence using list comprehension"
   ]
  },
  {
   "cell_type": "code",
   "execution_count": 118,
   "id": "2c0cd7d9-46e7-4ed4-a14d-941d9213f3ce",
   "metadata": {},
   "outputs": [],
   "source": [
    "# first taking a sentence for measuring the longest word\n",
    "sentence = \" I am dibyendu chowdhury, I am a student of pwskills full stack data science pro batch\"\n",
    "\n",
    "# splitting the sentence into words\n",
    "words = sentence.split()\n",
    "\n",
    "\n",
    "# creating a blank variable for storing the longest word \n",
    "longest_word = word for word in words if len(word) > len()\n",
    "\n",
    "\n",
    "# finding the longest word using for loop and list comprehension\n"
   ]
  },
  {
   "cell_type": "code",
   "execution_count": null,
   "id": "0bae4098-e327-43b5-9929-f2668c25a102",
   "metadata": {},
   "outputs": [],
   "source": []
  },
  {
   "cell_type": "markdown",
   "id": "6c730a65-4433-4e30-847a-1ce5fef4794e",
   "metadata": {},
   "source": [
    "# Question 38"
   ]
  },
  {
   "cell_type": "markdown",
   "id": "5924042b-5f58-4326-ae33-8cfd649c7b24",
   "metadata": {},
   "source": [
    "Create a program that filters a list of strings to include only those with more than three vowels using list comprehension"
   ]
  },
  {
   "cell_type": "code",
   "execution_count": 7,
   "id": "f9b5b7bb-b77f-457e-9ceb-c34f5d6e860b",
   "metadata": {},
   "outputs": [
    {
     "name": "stdout",
     "output_type": "stream",
     "text": [
      "the initial list is: ['hello', 'pwskills', 'artificial intelligence', 'take care', 'goodbye']\n",
      "the list of strings which have more than three vowels are: ['artificial intelligence', 'take care']\n"
     ]
    }
   ],
   "source": [
    "# creating a list of strings\n",
    "l = [\"hello\", \"pwskills\", \"artificial intelligence\", \"take care\", \"goodbye\"]\n",
    "\n",
    "\n",
    "# printing the initial list\n",
    "print(f\"the initial list is: {l}\")\n",
    "\n",
    "\n",
    "# creating user defined function to count vowels in a string\n",
    "def count_vowel(string) :\n",
    "    vowels = \"aeiouAEIOU\"\n",
    "    return sum(1 for char in string if char in vowels) # count 1 for each vowel\n",
    "\n",
    "\n",
    "# using list comprehenstion to filter out those strings which have more than three vowels in a string\n",
    "strings = [string for string in l if count_vowel(string) > 3]\n",
    "\n",
    "\n",
    "print(f\"the list of strings which have more than three vowels are: {strings}\")"
   ]
  },
  {
   "cell_type": "code",
   "execution_count": null,
   "id": "a1d7dd31-9e55-40a2-9dd1-9be5cca505c0",
   "metadata": {},
   "outputs": [],
   "source": []
  },
  {
   "cell_type": "markdown",
   "id": "d6b3cf25-d8dd-48a9-ac71-604ed38749bc",
   "metadata": {},
   "source": [
    "# Question 39"
   ]
  },
  {
   "cell_type": "markdown",
   "id": "27d8065a-472a-4e60-b045-713eaf8b984a",
   "metadata": {},
   "source": [
    "Develop a program that calculates the sum of the digits of numbers from 1 to 1000 using list comprehension"
   ]
  },
  {
   "cell_type": "code",
   "execution_count": 14,
   "id": "7d872284-9c1d-4a6f-8ca4-cee4cc149ba5",
   "metadata": {},
   "outputs": [
    {
     "name": "stdout",
     "output_type": "stream",
     "text": [
      " the total sum of the digits from 1 to 1000 is: 13501\n"
     ]
    }
   ],
   "source": [
    "# user defined function is created for calculating the sum of the digits of a number\n",
    "def sum_of_digits(n) :\n",
    "    return sum(int(digit) for digit in str(n))\n",
    "\n",
    "\n",
    "# creating list comprehension to create list of numnbers from 1 to 1000 using ramnge function\n",
    "numbers = list(range(1,1001))\n",
    "\n",
    "\n",
    "# creating the list comprehension to calculate the sum of the digits\n",
    "sum_digit = [sum_of_digits(number) for number in numbers]\n",
    "\n",
    "\n",
    "# calculating the total sum\n",
    "total_sum = sum(sum_digit)\n",
    "\n",
    "\n",
    "# printing the total sum\n",
    "print(f\" the total sum of the digits from 1 to 1000 is: {total_sum}\")"
   ]
  },
  {
   "cell_type": "code",
   "execution_count": null,
   "id": "bb8f805c-770d-4810-be74-25ab12fd697d",
   "metadata": {},
   "outputs": [],
   "source": []
  },
  {
   "cell_type": "markdown",
   "id": "983aa695-ecff-4735-b77e-6147e26d771a",
   "metadata": {},
   "source": [
    "# Question 40"
   ]
  },
  {
   "cell_type": "markdown",
   "id": "a151a96a-3046-4909-96cf-b795450cd551",
   "metadata": {},
   "source": [
    "Write a program that generates a list of prime palindromic numbers using list comprehension"
   ]
  },
  {
   "cell_type": "code",
   "execution_count": null,
   "id": "6433d6ca-af66-49ca-8030-99b1ee822d45",
   "metadata": {},
   "outputs": [],
   "source": []
  },
  {
   "cell_type": "code",
   "execution_count": null,
   "id": "7acda194-49b5-4211-a7e4-06d476303584",
   "metadata": {},
   "outputs": [],
   "source": []
  }
 ],
 "metadata": {
  "kernelspec": {
   "display_name": "Python 3 (ipykernel)",
   "language": "python",
   "name": "python3"
  },
  "language_info": {
   "codemirror_mode": {
    "name": "ipython",
    "version": 3
   },
   "file_extension": ".py",
   "mimetype": "text/x-python",
   "name": "python",
   "nbconvert_exporter": "python",
   "pygments_lexer": "ipython3",
   "version": "3.10.8"
  }
 },
 "nbformat": 4,
 "nbformat_minor": 5
}
